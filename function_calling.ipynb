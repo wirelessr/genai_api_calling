{
 "cells": [
  {
   "cell_type": "code",
   "execution_count": 33,
   "id": "104d2acf-3a3f-45c9-853b-c95ede9276f6",
   "metadata": {},
   "outputs": [
    {
     "data": {
      "text/plain": [
       "genai.GenerativeModel(\n",
       "    model_name='models/gemini-1.5-pro',\n",
       "    generation_config={},\n",
       "    safety_settings={},\n",
       "    tools=<google.generativeai.types.content_types.FunctionLibrary object at 0x105590320>,\n",
       "    system_instruction='你是個專業的網站爬蟲並且熟悉swagger的用法。\\n可以自行透過web api取得想要的內容，並且在利用web api時會主動列出用了哪些api。\\n若是碰到不知道答案的問題就回答不知道，不要編造答案。\\n',\n",
       "    cached_content=None\n",
       ")"
      ]
     },
     "execution_count": 33,
     "metadata": {},
     "output_type": "execute_result"
    }
   ],
   "source": [
    "import json\n",
    "\n",
    "import google.generativeai as genai\n",
    "\n",
    "with open('secret.json') as f:\n",
    "    secret = json.load(f)\n",
    "\n",
    "genai.configure(api_key=secret['GEMINI_TOKEN'])\n",
    "\n",
    "import requests\n",
    "\n",
    "def get_website_content(url: str) -> str:\n",
    "  \"\"\"抓取指定網址的網頁內容也可以讀取網路上的文字檔案。\"\"\"\n",
    "  response = requests.get(url)\n",
    "  response.raise_for_status()  # 如果請求失敗則引發錯誤\n",
    "  return response.text\n",
    "\n",
    "def post_request(url: str, data: str) -> dict:\n",
    "  \"\"\"\n",
    "  發送類似於 curl -X POST 的請求。\n",
    "\n",
    "  Args:\n",
    "      url (str): 目標網址。\n",
    "      data (str):  以 \"key1=value1&key2=value2\" 格式提供的表單資料。\n",
    "\n",
    "  Returns:\n",
    "      dict: 包含狀態碼和回應內容的字典。\n",
    "  \"\"\"\n",
    "  response = requests.post(url, headers={\"Content-Type\": \"application/x-www-form-urlencoded\"}, data=data)\n",
    "  response.raise_for_status()\n",
    "\n",
    "  try:\n",
    "      response_content = response.json()\n",
    "  except ValueError:\n",
    "      response_content = response.text\n",
    "\n",
    "  return {\n",
    "      \"status_code\": response.status_code,\n",
    "      \"content\": response_content,\n",
    "  }\n",
    "\n",
    "system_instruction = '''你是個專業的網站爬蟲並且熟悉swagger的用法。\n",
    "可以自行透過web api取得想要的內容，並且在利用web api時會主動列出用了哪些api。\n",
    "若是碰到不知道答案的問題就回答不知道，不要編造答案。\n",
    "'''\n",
    "\n",
    "model = genai.GenerativeModel(model_name='gemini-1.5-pro',\n",
    "                              tools=[get_website_content, post_request],\n",
    "                              system_instruction=system_instruction,)\n",
    "\n",
    "model"
   ]
  },
  {
   "cell_type": "code",
   "execution_count": 35,
   "id": "9fe02d19-876c-4fcd-a2e4-96fddd6e00e9",
   "metadata": {},
   "outputs": [
    {
     "name": "stdout",
     "output_type": "stream",
     "text": [
      "商品 ID: 123 的詳細資料如下:\n",
      "\n",
      "*   名稱: test123\n",
      "*   描述: testing \n",
      "\n"
     ]
    }
   ],
   "source": [
    "chat_session = model.start_chat(\n",
    "    enable_automatic_function_calling=True,\n",
    "    history=[\n",
    "        {\n",
    "            \"role\": \"user\",\n",
    "            \"parts\": [\n",
    "                \"我有一個網站，並且這個網站提供了完整的swagger: http://localhost:50000/apispec_1.json，請告訴我這個網站的功能。\"\n",
    "            ]\n",
    "        },\n",
    "        {\n",
    "            \"role\": \"model\",\n",
    "            \"parts\": [\n",
    "                \"\"\"根據你提供的swagger，這個網站的功能有：\n",
    "\n",
    "1.  可以新增或更新產品資訊，方法是發送 `POST` 請求到 `/api/product`，並提供產品 ID、名稱和描述。\n",
    "2.  可以刪除產品，方法是發送 `POST` 請求到 `/api/product/delete/{product_id}`，並提供產品 ID。\n",
    "3.  可以透過產品 ID 查詢特定產品，方法是發送 `GET` 請求到 `/api/product/{product_id}`。\n",
    "4.  可以取得產品列表，方法是發送 `GET` 請求到 `/api/products`。 \"\"\"\n",
    "            ]\n",
    "        },\n",
    "        {\n",
    "            \"role\": \"user\",\n",
    "            \"parts\": [\n",
    "                \"請找出所有description有包含item的商品\"\n",
    "            ]\n",
    "        },\n",
    "        {\n",
    "            \"role\": \"model\",\n",
    "            \"parts\": [\n",
    "                \"\"\"符合條件的商品:\n",
    "\n",
    "*   Product ID: 456\n",
    "*   Product Name: test456\n",
    "*   Product Description: testing item\"\"\"\n",
    "            ]\n",
    "        }\n",
    "    ]\n",
    "  )\n",
    "\n",
    "response = chat_session.send_message(\"我想知道商品ID: 123的詳細資料\")\n",
    "\n",
    "print(response.text)"
   ]
  },
  {
   "cell_type": "code",
   "execution_count": 39,
   "id": "4b82e2f2-0606-490e-a5b2-18d55ce4b681",
   "metadata": {},
   "outputs": [
    {
     "name": "stdout",
     "output_type": "stream",
     "text": [
      "我已經成功建立一筆商品，資訊如下:\n",
      "\n",
      "*   id: 1002\n",
      "*   name: test1002\n",
      "*   description: testing \n",
      "\n",
      "\n"
     ]
    }
   ],
   "source": [
    "response = chat_session.send_message(\"幫我隨便創建一筆商品，命名規則要符合其他商品，並且商品ID不能與現有商品衝突。你可以使用列表的API把全部商品列出來查看。\")\n",
    "\n",
    "print(response.text)"
   ]
  }
 ],
 "metadata": {
  "kernelspec": {
   "display_name": "Python 3 (ipykernel)",
   "language": "python",
   "name": "python3"
  },
  "language_info": {
   "codemirror_mode": {
    "name": "ipython",
    "version": 3
   },
   "file_extension": ".py",
   "mimetype": "text/x-python",
   "name": "python",
   "nbconvert_exporter": "python",
   "pygments_lexer": "ipython3",
   "version": "3.12.3"
  }
 },
 "nbformat": 4,
 "nbformat_minor": 5
}
