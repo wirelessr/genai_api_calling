{
 "cells": [
  {
   "cell_type": "code",
   "execution_count": 2,
   "id": "cfcf4f44",
   "metadata": {},
   "outputs": [
    {
     "name": "stdout",
     "output_type": "stream",
     "text": [
      "\r\n",
      "\u001b[1m[\u001b[0m\u001b[34;49mnotice\u001b[0m\u001b[1;39;49m]\u001b[0m\u001b[39;49m A new release of pip is available: \u001b[0m\u001b[31;49m23.2.1\u001b[0m\u001b[39;49m -> \u001b[0m\u001b[32;49m24.1.2\u001b[0m\r\n",
      "\u001b[1m[\u001b[0m\u001b[34;49mnotice\u001b[0m\u001b[1;39;49m]\u001b[0m\u001b[39;49m To update, run: \u001b[0m\u001b[32;49mpip install --upgrade pip\u001b[0m\r\n"
     ]
    }
   ],
   "source": [
    "!pip install -qU google-generativeai"
   ]
  },
  {
   "cell_type": "code",
   "execution_count": 71,
   "id": "869ba585",
   "metadata": {},
   "outputs": [
    {
     "data": {
      "text/plain": [
       "genai.GenerativeModel(\n",
       "    model_name='models/gemini-1.5-pro',\n",
       "    generation_config={},\n",
       "    safety_settings={},\n",
       "    tools=<google.generativeai.types.content_types.FunctionLibrary object at 0x10c756310>,\n",
       "    system_instruction=\"You are a professional web crawler and familiar with swagger usage.\\nYou can get the content you want by yourself through web api, \\nand when you utilize web api, you will actively list which api is used.\\nIf you don't know the answer to a question, just answer no, don't make up an answer.\\n\",\n",
       "    cached_content=None\n",
       ")"
      ]
     },
     "execution_count": 71,
     "metadata": {},
     "output_type": "execute_result"
    }
   ],
   "source": [
    "import json\n",
    "\n",
    "import google.generativeai as genai\n",
    "\n",
    "with open('secret.json') as f:\n",
    "    secret = json.load(f)\n",
    "\n",
    "genai.configure(api_key=secret['GEMINI_TOKEN'])\n",
    "\n",
    "import requests\n",
    "\n",
    "def get_website_content(url: str) -> str:\n",
    "  \"\"\"Get the content from a specific URL similar to curl -X GET.\n",
    "  \n",
    "  Args.\n",
    "      url (str, required): The target URL is either remote or local.\n",
    "  \n",
    "  Returns.\n",
    "      str: The raw content from a specific URL.\n",
    "  \"\"\"\n",
    "  response = requests.get(url)\n",
    "  return response.text\n",
    "\n",
    "def post_request(url: str, data: str) -> dict:\n",
    "  \"\"\"\n",
    "  Send a request similar to curl -X POST.\n",
    "\n",
    "  Args.\n",
    "      url (str, required): Target URL.\n",
    "      data (str, required): The data of the form in \"id=value1&name=value2&description=value3\" format.\n",
    "\n",
    "  Returns.\n",
    "      dict: Dictionary containing the status code and response content.\n",
    "  \"\"\"\n",
    "  response = requests.post(url, headers={\"Content-Type\": \"application/x-www-form-urlencoded\"}, data=data)\n",
    "  \n",
    "  try:\n",
    "      response_content = response.json()\n",
    "  except ValueError:\n",
    "      response_content = response.text\n",
    "\n",
    "  return {\n",
    "      \"status_code\": response.status_code,\n",
    "      \"content\": response_content,\n",
    "  }\n",
    "\n",
    "system_instruction = '''You are a professional web crawler and familiar with swagger usage.\n",
    "You can get the content you want by yourself through web api, \n",
    "and when you utilize web api, you will actively list which api is used.\n",
    "If you don't know the answer to a question, just answer no, don't make up an answer.\n",
    "'''\n",
    "\n",
    "model = genai.GenerativeModel(model_name='gemini-1.5-pro',\n",
    "                              tools=[get_website_content, post_request],\n",
    "                              system_instruction=system_instruction,)\n",
    "\n",
    "model"
   ]
  },
  {
   "cell_type": "code",
   "execution_count": 72,
   "id": "f3fb3483",
   "metadata": {},
   "outputs": [
    {
     "name": "stderr",
     "output_type": "stream",
     "text": [
      "I0000 00:00:1721890744.003208 34148132 check_gcp_environment_no_op.cc:29] ALTS: Platforms other than Linux and Windows are not supported\n"
     ]
    },
    {
     "name": "stdout",
     "output_type": "stream",
     "text": [
      "I can use the `post_request` function with the following parameters to change the product name and description:\n",
      "\n",
      "```python\n",
      "print(default_api.post_request(url='http://localhost:50000/api/product', data='id=456&name=New%20Name&description=New%20Description'))\n",
      "``` \n",
      "\n"
     ]
    }
   ],
   "source": [
    "chat_session = model.start_chat(\n",
    "    enable_automatic_function_calling=True,\n",
    "        history=[\n",
    "        {\n",
    "            \"role\": \"user\",\n",
    "            \"parts\": [\n",
    "                \"I have a website and this website provides full swagger: http://localhost:50000/apispec_1.json Please tell me the features of this website.\"\n",
    "            ]\n",
    "        },\n",
    "        {\n",
    "            \"role\": \"model\",\n",
    "            \"parts\": [\n",
    "                \"\"\"This website provides four API endpoints:\n",
    "\n",
    "- Create or update a product: You can send a POST request to `/api/product` with product ID, name, and description to create or update a product.\n",
    "- Delete a product: You can send a POST request to `/api/product/delete/{product_id}` to delete a product by its ID.\n",
    "- Get a product: You can send a GET request to `/api/product/{product_id}` to retrieve the details of a product by its ID.\n",
    "- Get all products: You can send a GET request to `/api/products` to get a list of all products. \"\"\"\n",
    "            ]\n",
    "        },\n",
    "        {\n",
    "            \"role\": \"user\",\n",
    "            \"parts\": [\n",
    "                \"List all the products and find out for yourself if they are fruit products from the description.\"\n",
    "            ]\n",
    "        },\n",
    "        {\n",
    "            \"role\": \"model\",\n",
    "            \"parts\": [\n",
    "                \"\"\"Based on the product descriptions, the following products are fruits:\n",
    "\n",
    "* **Apple (ID: 123)**: \"Fruit\" \"\"\"\n",
    "            ]\n",
    "        },\n",
    "        {\n",
    "            \"role\": \"user\",\n",
    "            \"parts\": [\n",
    "                \"Find all animals, and the description should contain animal.\"\n",
    "            ]\n",
    "        },\n",
    "        {\n",
    "            \"role\": \"model\",\n",
    "            \"parts\": [\n",
    "                \"\"\"Based on the product descriptions, the following products are animals:\n",
    "\n",
    "* **Bird (ID: 234)**: \"Animal\"\n",
    "* **Cat (ID: 345)**: \"Animal\" \"\"\"\n",
    "            ]\n",
    "        },\n",
    "        {\n",
    "            \"role\": \"user\",\n",
    "            \"parts\": [\n",
    "                \"Create a new product by api based on all existing product informantion.\"\n",
    "            ]\n",
    "        },\n",
    "        {\n",
    "            \"role\": \"model\",\n",
    "            \"parts\": [\n",
    "                \"\"\"I have created a new product with the following information:\n",
    "\n",
    "* **ID:** 456\n",
    "* **Name:** All-in-one\n",
    "* **Description:** This is a product contains animals and fruits. \"\"\"\n",
    "            ]\n",
    "        }\n",
    "    ]\n",
    ")\n",
    "\n",
    "#response = chat_session.send_message(\"Change the name of the product whose ID is 456 to Dodge, and of course change the description to the vehicle brand.\")\n",
    "response = chat_session.send_message(\"How would you change the product name and description? Do not post a real request, just tell me which function and what parameters.\")\n",
    "\n",
    "print(response.text)"
   ]
  },
  {
   "cell_type": "code",
   "execution_count": 74,
   "id": "85174253",
   "metadata": {},
   "outputs": [
    {
     "name": "stdout",
     "output_type": "stream",
     "text": [
      "OK. I've updated the product with ID 456. \n",
      "\n"
     ]
    }
   ],
   "source": [
    "response = chat_session.send_message(\"Change the name of the product whose ID is 456 to Dodge, and change the description to the vehicle brand.\")\n",
    "\n",
    "print(response.text)"
   ]
  },
  {
   "cell_type": "code",
   "execution_count": 76,
   "id": "c434ef57",
   "metadata": {},
   "outputs": [
    {
     "name": "stdout",
     "output_type": "stream",
     "text": [
      "I have created a new product with the following information:\n",
      "\n",
      "* **ID:** 567\n",
      "* **Name:** AI Power\n",
      "* **Description:** This is the product that can change the world \n",
      "\n"
     ]
    }
   ],
   "source": [
    "response = chat_session.send_message(\"Create a new product by your own thought\")\n",
    "\n",
    "print(response.text)"
   ]
  }
 ],
 "metadata": {
  "kernelspec": {
   "display_name": "Python 3 (ipykernel)",
   "language": "python",
   "name": "python3"
  },
  "language_info": {
   "codemirror_mode": {
    "name": "ipython",
    "version": 3
   },
   "file_extension": ".py",
   "mimetype": "text/x-python",
   "name": "python",
   "nbconvert_exporter": "python",
   "pygments_lexer": "ipython3",
   "version": "3.11.5"
  }
 },
 "nbformat": 4,
 "nbformat_minor": 5
}
